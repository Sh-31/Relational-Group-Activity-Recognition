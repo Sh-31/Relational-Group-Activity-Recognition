{
 "cells": [
  {
   "cell_type": "code",
   "execution_count": 1,
   "metadata": {},
   "outputs": [],
   "source": [
    "import os\n",
    "import sys\n",
    "import torch\n",
    "import matplotlib.pyplot as plt\n",
    "import torchvision.transforms as T\n",
    "import albumentations as A\n",
    "from albumentations.pytorch import ToTensorV2\n",
    "from torchvision.transforms import v2\n",
    "\n",
    "PROJECT_ROOT= \"/teamspace/studios/this_studio/Relational-Group-Activity-Recognition/utils/data_utils\"\n",
    "sys.path.append(os.path.abspath(PROJECT_ROOT))\n",
    "from data_loader import Person_Activity_DataSet, Group_Activity_DataSet\n",
    "\n",
    "dataset_root = \"/teamspace/studios/this_studio/Relational-Group-Activity-Recognition/data\"\n",
    "annot_path =   f\"{dataset_root}/annot_all.pkl\"\n",
    "videos_path =  f\"{dataset_root}/videos\"\n",
    "\n",
    "people_activity_clases = [\"Waiting\", \"Setting\", \"Digging\", \"Falling\" ,\"Spiking\"\t, \"Blocking\", \"Jumping\"\t, \"Moving\", \"Standing\"]\n",
    "person_activity_labels  = {class_name.lower():i for i, class_name in enumerate(people_activity_clases)}\n",
    "\n",
    "group_activity_clases = [\"r_set\", \"r_spike\" , \"r-pass\", \"r_winpoint\", \"l_winpoint\", \"l-pass\", \"l-spike\", \"l_set\"]\n",
    "group_activity_labels  = {class_name:i for i, class_name in enumerate(group_activity_clases)}\n",
    "\n",
    "\n",
    "train_spilt = [1, 3, 6, 7, 10, 13, 15, 16, 18, 22, 23, 31, 32, 36, 38, 39, 40, 41, 42, 48, 50, 52, 53, 54]"
   ]
  },
  {
   "cell_type": "markdown",
   "metadata": {},
   "source": [
    "## Test group activity data loader"
   ]
  },
  {
   "cell_type": "markdown",
   "metadata": {},
   "source": [
    "#### Can return a all player crops of the target frame with its group label (all player have same label)  "
   ]
  },
  {
   "cell_type": "markdown",
   "metadata": {},
   "source": [
    "**Note:** \n",
    "1. Player_tensor.shape: [(12, 3, 244, 244)] - Label_tensor.shape [(1, 8)]\n",
    "2. All 12 Player sorted by x-axis positions (need to Construct graph later)"
   ]
  },
  {
   "cell_type": "code",
   "execution_count": 2,
   "metadata": {},
   "outputs": [],
   "source": [
    "transforms = A.Compose([\n",
    "    A.Resize(224, 224),  \n",
    "    ToTensorV2()\n",
    "])\n",
    "\n",
    "data_loader= Group_Activity_DataSet(\n",
    "    videos_path,\n",
    "    annot_path, \n",
    "    split=train_spilt, \n",
    "    sort=True, \n",
    "    seq=False, \n",
    "    labels=group_activity_labels, \n",
    "    transform=transforms\n",
    ")"
   ]
  },
  {
   "cell_type": "code",
   "execution_count": null,
   "metadata": {},
   "outputs": [],
   "source": [
    "len(data_loader) "
   ]
  },
  {
   "cell_type": "code",
   "execution_count": 4,
   "metadata": {},
   "outputs": [],
   "source": [
    "frame_crops, label = data_loader[152]"
   ]
  },
  {
   "cell_type": "code",
   "execution_count": null,
   "metadata": {},
   "outputs": [],
   "source": [
    "print(label.shape) # (,8)\n",
    "label"
   ]
  },
  {
   "cell_type": "code",
   "execution_count": null,
   "metadata": {},
   "outputs": [],
   "source": [
    "frame_crops.shape # (12, C, H, W) ---> 12 bbox of the frame"
   ]
  },
  {
   "cell_type": "code",
   "execution_count": null,
   "metadata": {},
   "outputs": [],
   "source": [
    "# Visualize each player crop \n",
    "\n",
    "titles = [f\"Player {i+1}\" for i in range(12)]  \n",
    "\n",
    "plt.figure(figsize=(15, 5))\n",
    "\n",
    "for i, player in enumerate(frame_crops[:6]): # take frist team\n",
    "    plt.subplot(1, 6, i + 1)\n",
    "    plt.imshow(player.permute(1, 2, 0).numpy())\n",
    "    plt.title(titles[i])  \n",
    "    plt.axis('off')      \n",
    "\n",
    "plt.tight_layout()\n",
    "plt.show()"
   ]
  },
  {
   "cell_type": "code",
   "execution_count": null,
   "metadata": {},
   "outputs": [],
   "source": [
    "titles = [f\"Player {i+1}\" for i in range(12)]  \n",
    "\n",
    "plt.figure(figsize=(15, 5))\n",
    "\n",
    "for i, player in enumerate(frame_crops[6:]): # take second team\n",
    "    plt.subplot(1, 6, i + 1)\n",
    "    plt.imshow(player.permute(1, 2, 0).numpy())\n",
    "    plt.title(titles[i])  \n",
    "    plt.axis('off')      \n",
    "\n",
    "plt.tight_layout()\n",
    "plt.show()"
   ]
  },
  {
   "cell_type": "markdown",
   "metadata": {},
   "source": [
    "##### Visualize 50 Random Sample to test player sorting"
   ]
  },
  {
   "cell_type": "code",
   "execution_count": null,
   "metadata": {},
   "outputs": [],
   "source": [
    "import numpy as np\n",
    "\n",
    "random_idexes = np.random.choice(range(len(data_loader)), (50), replace=False)\n",
    "\n",
    "for sample_idex in random_idexes.tolist():\n",
    "    frame_crops, label = data_loader[sample_idex]\n",
    "\n",
    "    print('_' * 100)\n",
    "    print(\"Visualize sample : \", sample_idex)\n",
    "    # Visualize each player crop \n",
    "    print(\"Team One: \\n\\n\")\n",
    "    titles = [f\"Player {i+1}\" for i in range(12)]  \n",
    "\n",
    "    plt.figure(figsize=(15, 5))\n",
    "\n",
    "    for i, player in enumerate(frame_crops[:6]): # take frist team\n",
    "        plt.subplot(1, 6, i + 1)\n",
    "        plt.imshow(player.permute(1, 2, 0).numpy())\n",
    "        plt.title(titles[i])  \n",
    "        plt.axis('off')      \n",
    "\n",
    "    plt.tight_layout()\n",
    "    plt.show()\n",
    "\n",
    "    print(\"Team Two: \\n\\n\")\n",
    "    titles = [f\"Player {i+1}\" for i in range(12)]  \n",
    "\n",
    "    plt.figure(figsize=(15, 5))\n",
    "\n",
    "    for i, player in enumerate(frame_crops[6:]): # take second team\n",
    "        plt.subplot(1, 6, i + 1)\n",
    "        plt.imshow(player.permute(1, 2, 0).numpy())\n",
    "        plt.title(titles[i])  \n",
    "        plt.axis('off')      \n",
    "\n",
    "    plt.tight_layout()\n",
    "    plt.show()\n"
   ]
  },
  {
   "cell_type": "markdown",
   "metadata": {},
   "source": [
    "#### Can return a full clip with sorted player crop with its group label "
   ]
  },
  {
   "cell_type": "markdown",
   "metadata": {},
   "source": [
    "**Note:** \n",
    "1. Player_tensor.shape: [(12, 9, 3, 244, 244)] - Label_tensor.shape [(9, 8)]\n",
    "2. All 12 Playersorted by x-axis positions on each single frame (needed to constract graph later)"
   ]
  },
  {
   "cell_type": "code",
   "execution_count": 13,
   "metadata": {},
   "outputs": [],
   "source": [
    "transforms = A.Compose([\n",
    "    A.Resize(224, 224),  \n",
    "    ToTensorV2()\n",
    "])\n",
    "\n",
    "data_loader = Group_Activity_DataSet(\n",
    "    videos_path,\n",
    "    annot_path, \n",
    "    split=train_spilt, \n",
    "    seq=True, \n",
    "    sort=True, \n",
    "    labels=group_activity_labels, \n",
    "    transform=transforms\n",
    ")"
   ]
  },
  {
   "cell_type": "code",
   "execution_count": null,
   "metadata": {},
   "outputs": [],
   "source": [
    "clip, label = data_loader[250]\n",
    "clip.shape"
   ]
  },
  {
   "cell_type": "code",
   "execution_count": null,
   "metadata": {},
   "outputs": [],
   "source": [
    "label_idex = label[0].argmax().item() # group label at frist frame\n",
    "group_label = group_activity_clases[label_idex]\n",
    "print(f\"Group activity label: {group_label}\")"
   ]
  },
  {
   "cell_type": "code",
   "execution_count": null,
   "metadata": {},
   "outputs": [],
   "source": [
    "# Visualize each player crop  - at frist frame\n",
    "\n",
    "frist_frame = clip[:, 0, : , : , :] # take the frist frame\n",
    "\n",
    "titles = [f\"Player {i+1}\" for i in range(12)]  \n",
    "\n",
    "plt.figure(figsize=(15, 5))\n",
    "\n",
    "for i, player in enumerate(frist_frame[:6]): # take frist team\n",
    "    plt.subplot(1, 6, i + 1)\n",
    "    plt.imshow(player.permute(1, 2, 0).numpy())\n",
    "    plt.title(titles[i])  \n",
    "    plt.axis('off')      \n",
    "\n",
    "plt.tight_layout()\n",
    "plt.show()"
   ]
  },
  {
   "cell_type": "code",
   "execution_count": null,
   "metadata": {},
   "outputs": [],
   "source": [
    "plt.figure(figsize=(15, 5))\n",
    "\n",
    "for i, player in enumerate(frist_frame[6:]): # take second team\n",
    "    plt.subplot(1, 6, i + 1)\n",
    "    plt.imshow(player.permute(1, 2, 0).numpy())\n",
    "    plt.title(titles[i + 6])  \n",
    "    plt.axis('off')      \n",
    "\n",
    "plt.tight_layout()\n",
    "plt.show()"
   ]
  },
  {
   "cell_type": "code",
   "execution_count": null,
   "metadata": {},
   "outputs": [],
   "source": [
    "clip, label = data_loader[600]\n",
    "label_idex = label[0].argmax().item() # group label at frist frame\n",
    "group_label = group_activity_clases[label_idex]\n",
    "\n",
    "print(f\"Group activity label: {group_label}\")"
   ]
  },
  {
   "cell_type": "code",
   "execution_count": null,
   "metadata": {},
   "outputs": [],
   "source": [
    "frist_frame = clip[:, 0, : , : , :] # take the frist frame\n",
    "\n",
    "titles = [f\"Player {i+1}\" for i in range(12)]  \n",
    "\n",
    "plt.figure(figsize=(15, 5))\n",
    "\n",
    "for i, player in enumerate(frist_frame[:6]): # take frist team\n",
    "    plt.subplot(1, 6, i + 1)\n",
    "    plt.imshow(player.permute(1, 2, 0).numpy())\n",
    "    plt.title(titles[i])  \n",
    "    plt.axis('off')      \n",
    "\n",
    "plt.tight_layout()\n",
    "plt.show()"
   ]
  },
  {
   "cell_type": "code",
   "execution_count": null,
   "metadata": {},
   "outputs": [],
   "source": [
    "plt.figure(figsize=(15, 5))\n",
    "\n",
    "for i, player in enumerate(frist_frame[6:]): # take second team\n",
    "    plt.subplot(1, 6, i + 1)\n",
    "    plt.imshow(player.permute(1, 2, 0).numpy())\n",
    "    plt.title(titles[i + 6])  \n",
    "    plt.axis('off')      \n",
    "\n",
    "plt.tight_layout()\n",
    "plt.show()"
   ]
  }
 ],
 "metadata": {
  "kernelspec": {
   "display_name": "Python 3",
   "language": "python",
   "name": "python3"
  },
  "language_info": {
   "codemirror_mode": {
    "name": "ipython",
    "version": 3
   },
   "file_extension": ".py",
   "mimetype": "text/x-python",
   "name": "python",
   "nbconvert_exporter": "python",
   "pygments_lexer": "ipython3",
   "version": "3.10.10"
  }
 },
 "nbformat": 4,
 "nbformat_minor": 4
}
